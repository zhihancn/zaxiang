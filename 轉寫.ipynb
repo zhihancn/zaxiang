{
 "metadata": {
  "language_info": {
   "codemirror_mode": {
    "name": "ipython",
    "version": 3
   },
   "file_extension": ".py",
   "mimetype": "text/x-python",
   "name": "python",
   "nbconvert_exporter": "python",
   "pygments_lexer": "ipython3",
   "version": 3
  },
  "orig_nbformat": 2,
  "kernelspec": {
   "name": "python_defaultSpec_1596510359785",
   "display_name": "Python 3.7.7 64-bit ('tensorflow': conda)"
  }
 },
 "nbformat": 4,
 "nbformat_minor": 2,
 "cells": [
  {
   "cell_type": "code",
   "execution_count": 98,
   "metadata": {
    "tags": []
   },
   "outputs": [
    {
     "output_type": "execute_result",
     "data": {
      "text/plain": "387.12187500000005"
     },
     "metadata": {},
     "execution_count": 98
    }
   ],
   "source": [
    "import numpy as np\n",
    "import math\n",
    "sy = np.array( [[14.6,97.8,12.1,94.2,19.5,113.2,18.8,110.1],\n",
    "[13.6,100.3,12.9,98.5,18.5,119.4,18.2,114.7],\n",
    "[12.8,99.2,10.7,89.6,18.2,122.2,16.9,105.3],\n",
    "[12.0,102.1,12.4,103.8,18.2,122.2,16.9,105.3]])\n",
    "# 导入numpy_array类型数组，母猪成长数据\n",
    "\n",
    "[hx,hy] = sy.shape # 输出行列数据\n",
    "\n",
    "r = 4  # 因素A水平个数\n",
    "s = 2 # 因素B水平个数\n",
    "m = 2  # 互相搭配安排实验次数\n",
    "\n",
    "Xsy = np.zeros((hx,hy//2)) # 生成 hx 行 ， hy 列 全部为0的数组\n",
    "Ysy = np.zeros((hx,hy//2))\n",
    "\n",
    "for i in range(1,9,2): # 从2至8 步长为2\n",
    "    Xsy[:,i//2] = sy[:,i-1]\n",
    "    Ysy[:,i//2] = sy[:,i]\n",
    "\n",
    "# Tips:区别于matlab，一般高级语言下标从0开始计数，即：2-1=1\n",
    "#       python的range函数是前开后闭区间，即[1,7)，7取不到，计入9使其变成[1,9),使其涵括7\n",
    "\n",
    "[Pxij0,Pxi00,Px0j0,Px000]  = x_PXYijk (Xsy)\n",
    "[Pyij0,Pyi00,Py0j0,Py000] = x_PXYijk(Ysy)\n",
    "\n",
    "[SSTx,SSAx,SSBx,SSABx,SSEx] = x_SSXY(Xsy,Pxij0,Pxi00,Px0j0,Px000)\n",
    "[SSTy,SSAy,SSBy,SSABy,SSEy] = x_SSXY(Ysy,Pyij0,Pyi00,Py0j0,Py000)\n",
    "\n",
    "[SPT,SPA,SPB,SPAB,SPE] = x_SP(Xsy,Ysy,Pxij0,Pxi00,Px0j0,Px000,Pyij0,Pyi00,Py0j0,Py000)\n"
   ]
  },
  {
   "cell_type": "code",
   "execution_count": 85,
   "metadata": {
    "tags": []
   },
   "outputs": [],
   "source": [
    "def x_PXYijk(XYsy):\n",
    "    Pij0= np.zeros((r ,s))\n",
    "\n",
    "    for i in range(0,s):\n",
    "        Pij0[:,i] = np.sum(XYsy[:,(i+1)*m-m:(i+1)*m],axis=1)/m #此处修改赋值对象\n",
    "\n",
    "    Pi00 = np.sum(Pij0,axis=1)/s\n",
    "\n",
    "    P0j0 = np.sum(Pij0,axis=0)/r\n",
    "\n",
    "    P000 = np.sum(P0j0)/s\n",
    "\n",
    "    return Pij0,Pi00,P0j0,P000\n"
   ]
  },
  {
   "cell_type": "code",
   "execution_count": 89,
   "metadata": {},
   "outputs": [],
   "source": [
    "def x_SSXY(XYsy,Pij0,Pi00,P0j0,P000):\n",
    "\n",
    "    #总离均差平方和\n",
    "\n",
    "    SST = 0\n",
    "    for i in range(0,r): \n",
    "        for j in range(0,s):\n",
    "            for k in range((j+1)*m-m,(j+1)*m):\n",
    "                SST = SST + math.pow((XYsy[i,k]-P000),2)\n",
    "\n",
    "    SST\n",
    "\n",
    "    # A平方和\n",
    "    SSA = 0\n",
    "    for i in range (0,r):\n",
    "        for j in range (0,s):\n",
    "            for k  in range((j+1)*m-m,(j+1)*m):\n",
    "                SSA = SSA + math.pow((Pi00[i]-P000),2)\n",
    "\n",
    "    SSA\n",
    "\n",
    "    # B平方和\n",
    "    SSB = 0\n",
    "    for i in range (0,r):\n",
    "        for j in range (0,s):\n",
    "            for k in range((j+1)*m-m,(j+1)*m):\n",
    "                SSB = SSB + math.pow((P0j0[j]-P000),2)\n",
    "    SSB\n",
    "\n",
    "        # 交互平方和\n",
    "    SSAB = 0\n",
    "    for i in range (0,r):\n",
    "        for j in range (0,s):\n",
    "            for k in range((j+1)*m-m,(j+1)*m):\n",
    "                SSAB = SSAB + math.pow((Pij0[i,j]-Pi00[i]-P0j0[j]+P000),2)\n",
    "\n",
    "    SSAB\n",
    "        \n",
    "            # 误差平方和\n",
    "    SSE = 0\n",
    "    for i in range (0,r):\n",
    "        for j  in range (0,s):\n",
    "            for k in range((j+1)*m-m,(j+1)*m):\n",
    "                SSE = SSE + math.pow((XYsy[i,k]-Pij0[i,j]),2)\n",
    "    SSE \n",
    "\n",
    "    return SST,SSA,SSB,SSAB,SSE"
   ]
  },
  {
   "cell_type": "code",
   "execution_count": 97,
   "metadata": {},
   "outputs": [],
   "source": [
    "def x_SP(Xsy,Ysy,Pxij0,Pxi00,Px0j0,Px000,Pyij0,Pyi00,Py0j0,Py000):\n",
    "    # x与y的总离均差乘积和\n",
    "    SPT = 0\n",
    "    for i in range (0,r):\n",
    "        for j in range (0,s):\n",
    "            for k in range((j+1)*m-m,(j+1)*m):\n",
    "                SPT = SPT + (Xsy[i,k]-Px000)*(Ysy[i,k]-Py000)\n",
    "    # x与y的A乘积和\n",
    "    SPA = 0\n",
    "    for i in range (0,r):\n",
    "        for j in range (0,s):\n",
    "            for k in range((j+1)*m-m,(j+1)*m):\n",
    "                SPA = SPA + (Pxi00[i]-Px000)*(Pyi00[i]-Py000)\n",
    "    # x与y的B乘积和\n",
    "    SPB = 0\n",
    "    for i in range (0,r):\n",
    "        for j in range (0,s):\n",
    "            for k in range((j+1)*m-m,(j+1)*m):\n",
    "                SPB = SPB + (Px0j0[j]-Px000)*(Py0j0[j]-Py000)\n",
    "\n",
    "    # x与y的交互乘积和\n",
    "    SPAB = 0\n",
    "    for i in range (0,r):\n",
    "        for j in range (0,s):\n",
    "            for k in range((j+1)*m-m,(j+1)*m):\n",
    "                SPAB = SPAB + (Pxij0[i,j]-Pxi00[i]-Px0j0[j]+Px000)*(Pyij0[i,j]-Pyi00[i]-Py0j0[j]+Py000)\n",
    "\n",
    "    # x与y的误差乘积和\n",
    "\n",
    "    SPE = 0\n",
    "    for i in range (0,r):\n",
    "        for j in range (0,s):\n",
    "            for k in range((j+1)*m-m,(j+1)*m):\n",
    "                SPE = SPE + (Xsy[i,k]-Pxij0[i,j])*(Ysy[i,k]-Pyij0[i,j])\n",
    "\n",
    "    return SPT,SPA,SPB,SPAB,SPE"
   ]
  },
  {
   "cell_type": "code",
   "execution_count": 103,
   "metadata": {
    "tags": []
   },
   "outputs": [
    {
     "output_type": "stream",
     "name": "stdout",
     "text": "\n误差行回归系数\nb=SPE/SSE(x)=5.15\n"
    }
   ],
   "source": [
    "# 第二题\n",
    "\n",
    "b = SPE/SSEx\n",
    "print(\"\\n误差行回归系数\\nb=SPE/SSE(x)={:.2f}\".format(b))"
   ]
  },
  {
   "cell_type": "code",
   "execution_count": 113,
   "metadata": {
    "tags": []
   },
   "outputs": [
    {
     "output_type": "stream",
     "name": "stdout",
     "text": "误差行线性回归显著性判断F=9.159\n\n矫正前Pyi00： [103.825 108.225 104.075 108.35 ]\n矫正后Pyi00： [ 99.416 106.133 107.904 111.021]\n矫正前Py0j0： [ 98.188 114.05 ]\n矫正后Pyi00： [112.378  99.859]\n"
    }
   ],
   "source": [
    "#第三题\n",
    "\n",
    "Fz = b*SPE*(r*s*(m-1)-1)\n",
    "Fm = SSEy - b*SPE\n",
    "F = Fz/Fm\n",
    "np.set_printoptions(precision=3, suppress=True)\n",
    "print('误差行线性回归显著性判断F={:.3f}\\n'.format(F))\n",
    "# %F=9.159,误差行的线性回归显著，矫正各组平均数\n",
    "print('矫正前Pyi00：',(Pyi00))\n",
    "JPyi00 = Pyi00 - b*(Pxi00 - Px000)\n",
    "print('矫正后Pyi00：',JPyi00)\n",
    "print('矫正前Py0j0：',Py0j0)\n",
    "JPy0j0 = Py0j0 - b*(Px0j0 - Px000)\n",
    "print('矫正后Pyi00：',JPy0j0)"
   ]
  },
  {
   "cell_type": "code",
   "execution_count": 118,
   "metadata": {
    "tags": []
   },
   "outputs": [
    {
     "output_type": "stream",
     "name": "stdout",
     "text": "\n\n~~(4)~~\n\n1.QE    = 154.69\n\n2.QA+E  = 341.59\n\n3.QA=QA+E-QE= 186.90\n\n4.QB+E= 191.74\n\n5.QB=QB+E-QE= 37.05\n\n6.QAB+E = 194.65\n\n7.QAB=QAB+E-QE=  39.96\n\n"
    }
   ],
   "source": [
    "# %(4)\n",
    "QE = SSEy - (math.pow(SPE,2))/SSEx\n",
    "QAE = (SSAy+SSEy) - math.pow( (SPA+SPE),2)/(SSAx+SSEx)\n",
    "QA = QAE-QE\n",
    "QBE = (SSBy+SSEy) - math.pow( (SPB+SPE),2)/(SSBx+SSEx)\n",
    "QB = QBE - QE\n",
    "QABE = (SSABy+SSEy)- math.pow( (SPAB+SPE),2)/(SSABx+SSEx)\n",
    "QAB = QABE - QE\n",
    "MQA = QA/(r-1)\n",
    "MQB = QB/(s-1)\n",
    "MQAB = QAB/((r-1)*(s-1))\n",
    "MQE = QE/(r*s*(m-1)-1)\n",
    "FA = MQA/MQE\n",
    "FB = MQB/MQE\n",
    "FAB = MQAB/MQE\n",
    "print('\\n')\n",
    "print('~~(4)~~\\n')\n",
    "print('1.QE    = %0.2f\\n'%QE)\n",
    "print('2.QA+E  = %0.2f\\n'%QAE)\n",
    "print('3.QA=QA+E-QE= %0.2f\\n'%QA)\n",
    "print('4.QB+E= %0.2f\\n'%QBE)\n",
    "print('5.QB=QB+E-QE= %0.2f\\n'%QB)\n",
    "print('6.QAB+E = %0.2f\\n'%QABE)\n",
    "print('7.QAB=QAB+E-QE= % 0.2f\\n'%QAB)"
   ]
  },
  {
   "cell_type": "code",
   "execution_count": 119,
   "metadata": {
    "tags": []
   },
   "outputs": [
    {
     "output_type": "stream",
     "name": "stdout",
     "text": "\n\n~~(5)~~\n\n1.QA   =186.90\n\n2.QB   =37.05\n\n3.QAB  =39.96\n\n4.QE   =154.69\n\n5.MQA  =62.30\n\n6.MQB  =37.05\n\n7.MQAB =13.32\n\n8.MQE  =22.10\n\n9.FA   =2.82\n\n10.FB  =1.68\n\n11.FAB =0.60\n\n"
    }
   ],
   "source": [
    "# %(5)\n",
    "print('\\n')\n",
    "print('~~(5)~~\\n')\n",
    "print('1.QA   =%0.2f\\n'%QA)\n",
    "print('2.QB   =%0.2f\\n'%QB)\n",
    "print('3.QAB  =%0.2f\\n'%QAB)\n",
    "print('4.QE   =%0.2f\\n'%QE)\n",
    "print('5.MQA  =%0.2f\\n'%MQA)\n",
    "print('6.MQB  =%0.2f\\n'%MQB)\n",
    "print('7.MQAB =%0.2f\\n'%MQAB)\n",
    "print('8.MQE  =%0.2f\\n'%MQE)\n",
    "print('9.FA   =%0.2f\\n'%FA)\n",
    "print('10.FB  =%0.2f\\n'%FB)\n",
    "print('11.FAB =%0.2f\\n'%FAB)"
   ]
  }
 ]
}